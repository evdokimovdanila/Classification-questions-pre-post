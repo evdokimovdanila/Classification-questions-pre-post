{
  "nbformat": 4,
  "nbformat_minor": 0,
  "metadata": {
    "colab": {
      "provenance": []
    },
    "kernelspec": {
      "name": "python3",
      "display_name": "Python 3"
    },
    "language_info": {
      "name": "python"
    }
  },
  "cells": [
    {
      "cell_type": "code",
      "execution_count": null,
      "metadata": {
        "id": "acDaK9qoScWK"
      },
      "outputs": [],
      "source": [
        "import numpy as np\n",
        "import pandas as pd\n",
        "import matplotlib.pyplot as plt\n",
        "import torch\n",
        "import scipy\n",
        "from tqdm.notebook import tqdm \n",
        "from torchvision import transforms, datasets\n",
        "from sklearn.metrics import f1_score, classification_report\n",
        "from sklearn.model_selection import train_test_split\n",
        "import torch.nn.functional as F\n",
        "import torch.nn as nn\n",
        "import torchvision\n",
        "from torchvision import datasets, transforms\n",
        "from torchvision import models\n",
        "from torchvision.utils import save_image\n",
        "import os\n",
        "import gc\n",
        "import glob"
      ]
    },
    {
      "cell_type": "markdown",
      "source": [
        "# Download data"
      ],
      "metadata": {
        "id": "nJ31ymP24rcR"
      }
    },
    {
      "cell_type": "code",
      "source": [
        "# from google.colab import files\n",
        "\n",
        "# uploaded = files.upload()\n",
        "\n",
        "# for fn in uploaded.keys():\n",
        "#   print('User uploaded file \"{name}\" with length {length} bytes'.format(\n",
        "#       name=fn, length=len(uploaded[fn])))\n",
        "  \n",
        "# # Then move kaggle.json into the folder where the API expects to find it.\n",
        "# !mkdir -p ~/.kaggle/ && mv kaggle.json ~/.kaggle/ && chmod 600 ~/.kaggle/kaggle.json"
      ],
      "metadata": {
        "id": "SdTtn2DgSoNZ"
      },
      "execution_count": null,
      "outputs": []
    },
    {
      "cell_type": "code",
      "source": [
        "data  = pd.read_csv('Pre_Post_Questions.csv', encoding=\"latin1\")"
      ],
      "metadata": {
        "id": "pN-5uNvL9_hE"
      },
      "execution_count": null,
      "outputs": []
    },
    {
      "cell_type": "code",
      "source": [
        "data.head()"
      ],
      "metadata": {
        "colab": {
          "base_uri": "https://localhost:8080/",
          "height": 206
        },
        "id": "9ATcZiBcAHUD",
        "outputId": "8e08de1a-4d72-4e2c-974c-2f221f42570f"
      },
      "execution_count": null,
      "outputs": [
        {
          "output_type": "execute_result",
          "data": {
            "text/plain": [
              "           id                                           question  \\\n",
              "0  B017PICGL0                           Are boots cold reliable?   \n",
              "1  B01HI8YEZS                is the main body rubber or plastic?   \n",
              "2  B07GZ1LF4R   Do you know the thread pitch/count for the tang?   \n",
              "3  B07BMNPRFN  The item ordered came tarnished and my son nee...   \n",
              "4  B075QQKFK3  \"I purchased these and now they look weird wit...   \n",
              "\n",
              "                                           item_name label  \n",
              "0  Reebok Work Men's Zigkick RB7005 Work Shoe, Br...   Pre  \n",
              "1  3C-Aone Galaxy S5 Case,Mangix Built-in Glass L...   Pre  \n",
              "2  ColdLand |14.00\" Hand Forged Damascus Steel Bl...  Post  \n",
              "3  BEICHUANG Beidou 7 Stars Big Dipper Star Penda...  Post  \n",
              "4  Alla Lighting H8 H11 LED Bulbs Xtreme Super Br...  Post  "
            ],
            "text/html": [
              "\n",
              "  <div id=\"df-8ea0a7c2-696f-4180-95c6-5e2d159679c5\">\n",
              "    <div class=\"colab-df-container\">\n",
              "      <div>\n",
              "<style scoped>\n",
              "    .dataframe tbody tr th:only-of-type {\n",
              "        vertical-align: middle;\n",
              "    }\n",
              "\n",
              "    .dataframe tbody tr th {\n",
              "        vertical-align: top;\n",
              "    }\n",
              "\n",
              "    .dataframe thead th {\n",
              "        text-align: right;\n",
              "    }\n",
              "</style>\n",
              "<table border=\"1\" class=\"dataframe\">\n",
              "  <thead>\n",
              "    <tr style=\"text-align: right;\">\n",
              "      <th></th>\n",
              "      <th>id</th>\n",
              "      <th>question</th>\n",
              "      <th>item_name</th>\n",
              "      <th>label</th>\n",
              "    </tr>\n",
              "  </thead>\n",
              "  <tbody>\n",
              "    <tr>\n",
              "      <th>0</th>\n",
              "      <td>B017PICGL0</td>\n",
              "      <td>Are boots cold reliable?</td>\n",
              "      <td>Reebok Work Men's Zigkick RB7005 Work Shoe, Br...</td>\n",
              "      <td>Pre</td>\n",
              "    </tr>\n",
              "    <tr>\n",
              "      <th>1</th>\n",
              "      <td>B01HI8YEZS</td>\n",
              "      <td>is the main body rubber or plastic?</td>\n",
              "      <td>3C-Aone Galaxy S5 Case,Mangix Built-in Glass L...</td>\n",
              "      <td>Pre</td>\n",
              "    </tr>\n",
              "    <tr>\n",
              "      <th>2</th>\n",
              "      <td>B07GZ1LF4R</td>\n",
              "      <td>Do you know the thread pitch/count for the tang?</td>\n",
              "      <td>ColdLand |14.00\" Hand Forged Damascus Steel Bl...</td>\n",
              "      <td>Post</td>\n",
              "    </tr>\n",
              "    <tr>\n",
              "      <th>3</th>\n",
              "      <td>B07BMNPRFN</td>\n",
              "      <td>The item ordered came tarnished and my son nee...</td>\n",
              "      <td>BEICHUANG Beidou 7 Stars Big Dipper Star Penda...</td>\n",
              "      <td>Post</td>\n",
              "    </tr>\n",
              "    <tr>\n",
              "      <th>4</th>\n",
              "      <td>B075QQKFK3</td>\n",
              "      <td>\"I purchased these and now they look weird wit...</td>\n",
              "      <td>Alla Lighting H8 H11 LED Bulbs Xtreme Super Br...</td>\n",
              "      <td>Post</td>\n",
              "    </tr>\n",
              "  </tbody>\n",
              "</table>\n",
              "</div>\n",
              "      <button class=\"colab-df-convert\" onclick=\"convertToInteractive('df-8ea0a7c2-696f-4180-95c6-5e2d159679c5')\"\n",
              "              title=\"Convert this dataframe to an interactive table.\"\n",
              "              style=\"display:none;\">\n",
              "        \n",
              "  <svg xmlns=\"http://www.w3.org/2000/svg\" height=\"24px\"viewBox=\"0 0 24 24\"\n",
              "       width=\"24px\">\n",
              "    <path d=\"M0 0h24v24H0V0z\" fill=\"none\"/>\n",
              "    <path d=\"M18.56 5.44l.94 2.06.94-2.06 2.06-.94-2.06-.94-.94-2.06-.94 2.06-2.06.94zm-11 1L8.5 8.5l.94-2.06 2.06-.94-2.06-.94L8.5 2.5l-.94 2.06-2.06.94zm10 10l.94 2.06.94-2.06 2.06-.94-2.06-.94-.94-2.06-.94 2.06-2.06.94z\"/><path d=\"M17.41 7.96l-1.37-1.37c-.4-.4-.92-.59-1.43-.59-.52 0-1.04.2-1.43.59L10.3 9.45l-7.72 7.72c-.78.78-.78 2.05 0 2.83L4 21.41c.39.39.9.59 1.41.59.51 0 1.02-.2 1.41-.59l7.78-7.78 2.81-2.81c.8-.78.8-2.07 0-2.86zM5.41 20L4 18.59l7.72-7.72 1.47 1.35L5.41 20z\"/>\n",
              "  </svg>\n",
              "      </button>\n",
              "      \n",
              "  <style>\n",
              "    .colab-df-container {\n",
              "      display:flex;\n",
              "      flex-wrap:wrap;\n",
              "      gap: 12px;\n",
              "    }\n",
              "\n",
              "    .colab-df-convert {\n",
              "      background-color: #E8F0FE;\n",
              "      border: none;\n",
              "      border-radius: 50%;\n",
              "      cursor: pointer;\n",
              "      display: none;\n",
              "      fill: #1967D2;\n",
              "      height: 32px;\n",
              "      padding: 0 0 0 0;\n",
              "      width: 32px;\n",
              "    }\n",
              "\n",
              "    .colab-df-convert:hover {\n",
              "      background-color: #E2EBFA;\n",
              "      box-shadow: 0px 1px 2px rgba(60, 64, 67, 0.3), 0px 1px 3px 1px rgba(60, 64, 67, 0.15);\n",
              "      fill: #174EA6;\n",
              "    }\n",
              "\n",
              "    [theme=dark] .colab-df-convert {\n",
              "      background-color: #3B4455;\n",
              "      fill: #D2E3FC;\n",
              "    }\n",
              "\n",
              "    [theme=dark] .colab-df-convert:hover {\n",
              "      background-color: #434B5C;\n",
              "      box-shadow: 0px 1px 3px 1px rgba(0, 0, 0, 0.15);\n",
              "      filter: drop-shadow(0px 1px 2px rgba(0, 0, 0, 0.3));\n",
              "      fill: #FFFFFF;\n",
              "    }\n",
              "  </style>\n",
              "\n",
              "      <script>\n",
              "        const buttonEl =\n",
              "          document.querySelector('#df-8ea0a7c2-696f-4180-95c6-5e2d159679c5 button.colab-df-convert');\n",
              "        buttonEl.style.display =\n",
              "          google.colab.kernel.accessAllowed ? 'block' : 'none';\n",
              "\n",
              "        async function convertToInteractive(key) {\n",
              "          const element = document.querySelector('#df-8ea0a7c2-696f-4180-95c6-5e2d159679c5');\n",
              "          const dataTable =\n",
              "            await google.colab.kernel.invokeFunction('convertToInteractive',\n",
              "                                                     [key], {});\n",
              "          if (!dataTable) return;\n",
              "\n",
              "          const docLinkHtml = 'Like what you see? Visit the ' +\n",
              "            '<a target=\"_blank\" href=https://colab.research.google.com/notebooks/data_table.ipynb>data table notebook</a>'\n",
              "            + ' to learn more about interactive tables.';\n",
              "          element.innerHTML = '';\n",
              "          dataTable['output_type'] = 'display_data';\n",
              "          await google.colab.output.renderOutput(dataTable, element);\n",
              "          const docLink = document.createElement('div');\n",
              "          docLink.innerHTML = docLinkHtml;\n",
              "          element.appendChild(docLink);\n",
              "        }\n",
              "      </script>\n",
              "    </div>\n",
              "  </div>\n",
              "  "
            ]
          },
          "metadata": {},
          "execution_count": 4
        }
      ]
    },
    {
      "cell_type": "code",
      "source": [
        "data.info()"
      ],
      "metadata": {
        "colab": {
          "base_uri": "https://localhost:8080/"
        },
        "id": "7D5cqpEpAIi5",
        "outputId": "77da308d-bef1-4f96-8608-197b6092cb45"
      },
      "execution_count": null,
      "outputs": [
        {
          "output_type": "stream",
          "name": "stdout",
          "text": [
            "<class 'pandas.core.frame.DataFrame'>\n",
            "RangeIndex: 231904 entries, 0 to 231903\n",
            "Data columns (total 4 columns):\n",
            " #   Column     Non-Null Count   Dtype \n",
            "---  ------     --------------   ----- \n",
            " 0   id         231904 non-null  object\n",
            " 1   question   231904 non-null  object\n",
            " 2   item_name  231781 non-null  object\n",
            " 3   label      231600 non-null  object\n",
            "dtypes: object(4)\n",
            "memory usage: 7.1+ MB\n"
          ]
        }
      ]
    },
    {
      "cell_type": "code",
      "source": [
        "data['label'].value_counts()"
      ],
      "metadata": {
        "colab": {
          "base_uri": "https://localhost:8080/"
        },
        "id": "AkBNaQS5AKxB",
        "outputId": "fc95aa71-bef5-4f60-bc83-b26599001b28"
      },
      "execution_count": null,
      "outputs": [
        {
          "output_type": "execute_result",
          "data": {
            "text/plain": [
              "Pre                                                                                   133456\n",
              "Post                                                                                   97674\n",
              "-1                                                                                        22\n",
              "0                                                                                          5\n",
              " White\"                                                                                    5\n",
              "                                                                                       ...  \n",
              "101                                                                                        1\n",
              " Loop Recording                                                                            1\n",
              " Pedometer IP67 Waterproof Sleep Monitor Step Counter for Android & iPhone (Blue)\"         1\n",
              "58                                                                                         1\n",
              "Motorhomes                                                                                 1\n",
              "Name: label, Length: 423, dtype: int64"
            ]
          },
          "metadata": {},
          "execution_count": 6
        }
      ]
    },
    {
      "cell_type": "code",
      "source": [
        "data = data[data['label'].isin(['Pre', 'Post'])]\n",
        "data['label'].value_counts()"
      ],
      "metadata": {
        "colab": {
          "base_uri": "https://localhost:8080/"
        },
        "id": "RYvwJtruCTun",
        "outputId": "055ba04b-b0ff-45ae-ca64-6644d81ea6e1"
      },
      "execution_count": null,
      "outputs": [
        {
          "output_type": "execute_result",
          "data": {
            "text/plain": [
              "Pre     133456\n",
              "Post     97674\n",
              "Name: label, dtype: int64"
            ]
          },
          "metadata": {},
          "execution_count": 7
        }
      ]
    },
    {
      "cell_type": "code",
      "source": [
        "data = data[['question', 'label']]"
      ],
      "metadata": {
        "id": "QG1vpiV7CnfH"
      },
      "execution_count": null,
      "outputs": []
    },
    {
      "cell_type": "code",
      "source": [
        "data.label.replace({'Pre':0,'Post':1},inplace=True)"
      ],
      "metadata": {
        "id": "5OZEZR6qhIzR"
      },
      "execution_count": null,
      "outputs": []
    },
    {
      "cell_type": "code",
      "source": [
        "# balance data\n",
        "index_0 = data[data['label'] == 0].index\n",
        "data_0 = data[data.index.isin(np.random.choice(index_0, 100000, replace=False))]\n",
        "data_1 = data[data['label'] == 1]\n",
        "data = pd.concat([data_0, data_1])\n",
        "data['label'].value_counts()"
      ],
      "metadata": {
        "colab": {
          "base_uri": "https://localhost:8080/"
        },
        "id": "MoSLp_75SAdE",
        "outputId": "668cfbc7-d25d-4683-8cda-a6bd4694f7a9"
      },
      "execution_count": null,
      "outputs": [
        {
          "output_type": "execute_result",
          "data": {
            "text/plain": [
              "0    100000\n",
              "1     97674\n",
              "Name: label, dtype: int64"
            ]
          },
          "metadata": {},
          "execution_count": 23
        }
      ]
    },
    {
      "cell_type": "code",
      "source": [
        "def find_not_alpha(x):\n",
        "  return ' '.join(np.unique([i for i in x if not i.isalpha()]))"
      ],
      "metadata": {
        "id": "M0lV11pGL3aI"
      },
      "execution_count": null,
      "outputs": []
    },
    {
      "cell_type": "code",
      "source": [
        "import itertools\n",
        "unique_string_sent = data['question'].apply(lambda x: find_not_alpha(x))\n",
        "string_not_alpha = np.unique(list(itertools.chain(*unique_string_sent)))"
      ],
      "metadata": {
        "id": "EieQQplfOWGd"
      },
      "execution_count": null,
      "outputs": []
    },
    {
      "cell_type": "code",
      "source": [
        "string_not_alpha"
      ],
      "metadata": {
        "colab": {
          "base_uri": "https://localhost:8080/"
        },
        "id": "BORsN5EScRWo",
        "outputId": "f27e82ea-6323-4d6a-c886-55cc3d98d21d"
      },
      "execution_count": null,
      "outputs": [
        {
          "output_type": "execute_result",
          "data": {
            "text/plain": [
              "array(['\\x08', '\\n', '\\x16', ' ', '!', '\"', '#', '$', '%', '&', \"'\", '(',\n",
              "       ')', '*', '+', ',', '-', '.', '/', '0', '1', '2', '3', '4', '5',\n",
              "       '6', '7', '8', '9', ':', ';', '<', '=', '>', '?', '@', '[', '\\\\',\n",
              "       ']', '^', '_', '`', '{', '|', '}', '~', '\\x80', '\\x81', '\\x82',\n",
              "       '\\x83', '\\x84', '\\x85', '\\x87', '\\x88', '\\x89', '\\x8b', '\\x8c',\n",
              "       '\\x8d', '\\x8e', '\\x8f', '\\x90', '\\x91', '\\x92', '\\x93', '\\x94',\n",
              "       '\\x95', '\\x96', '\\x98', '\\x99', '\\x9a', '\\x9b', '\\x9c', '\\x9d',\n",
              "       '\\x9e', '\\x9f', '\\xa0', '¡', '¢', '£', '¤', '¥', '¦', '§', '¨',\n",
              "       '©', '«', '¬', '\\xad', '®', '¯', '°', '±', '²', '³', '´', '¶', '·',\n",
              "       '¸', '¹', '»', '¼', '½', '¾', '¿', '×'], dtype='<U1')"
            ]
          },
          "metadata": {},
          "execution_count": 26
        }
      ]
    },
    {
      "cell_type": "code",
      "source": [
        "# def check_string(x, check_char):\n",
        "index_char = data['question'].apply(lambda x: '¤' in x)\n",
        "data.loc[index_char]['question']\n"
      ],
      "metadata": {
        "colab": {
          "base_uri": "https://localhost:8080/"
        },
        "id": "gYrqIluSfe2G",
        "outputId": "1e45aa91-94a8-461c-ad5d-4d7f2502115e"
      },
      "execution_count": null,
      "outputs": [
        {
          "output_type": "execute_result",
          "data": {
            "text/plain": [
              "56950     \"When i read it say \"\"BHB\"\" salts i thought it...\n",
              "71504     What is the hem length on these FjÃ¤llrÃ¤ven G...\n",
              "117863    Are the ocean deep auqa & black? ð¤ð¼ð¤ð...\n",
              "120651    Does this kill or eliminate the parasites and ...\n",
              "138551    Black cat t-shirt; eill spandex 5% help it str...\n",
              "222285    Is it possible to know which dolls we can get?...\n",
              "227381       Is this comfortable if you wear glasses  ð¤E\n",
              "82650     Recieved grill however no books were in packin...\n",
              "89691     Can i buy a replacement charger? I lost mine ð¤·\n",
              "99921     Why does it say in specs 37.4 inches high... I...\n",
              "110058    I ordered one last week and it sounded very go...\n",
              "111505    How do you clean these? I have a pair and my d...\n",
              "114149    Why does it say set of 2 26x26 and Amazon only...\n",
              "137344    How do i contact seller?  did not receive pack...\n",
              "156247    So these are coming from China. Umm i donât ...\n",
              "158192    This is the battery that was recommended from ...\n",
              "160929    My bed was supposedly âdeliveredâEan hour ...\n",
              "163378    Im a bit confused i purchase the cat flea coll...\n",
              "169677    Can i order filters separately?  if so, please...\n",
              "170770    I only got part of the organizer.... not reall...\n",
              "177255    Am I missing something? All of my indicator li...\n",
              "178632    Please use bubble wrap and better packaging so...\n",
              "179610    Is this actually 18k gold plated? The price wo...\n",
              "183595    Is there an actual manual? Confused as to what...\n",
              "198038    Is this supposed to have a screen protector.  ...\n",
              "220845    Where can I get replacement flap covers? The r...\n",
              "221639    Can this be in stock sooner than 3/27? Only al...\n",
              "Name: question, dtype: object"
            ]
          },
          "metadata": {},
          "execution_count": 27
        }
      ]
    },
    {
      "cell_type": "markdown",
      "source": [
        "We use this string in the begining"
      ],
      "metadata": {
        "id": "HKwCFWsNg9f5"
      }
    },
    {
      "cell_type": "markdown",
      "source": [
        "# Simple BASELINE"
      ],
      "metadata": {
        "id": "dZKmkDt7hX8E"
      }
    },
    {
      "cell_type": "code",
      "source": [
        "from sklearn.utils import shuffle\n",
        "from sklearn.linear_model import LogisticRegression\n",
        "train_data, test_data, train_target, test_target = train_test_split(data['question'], data['label'], test_size=0.2, random_state=42, shuffle=True, stratify=data['label'])\n",
        "train_data.head()"
      ],
      "metadata": {
        "colab": {
          "base_uri": "https://localhost:8080/"
        },
        "id": "_vshTCGDjgE3",
        "outputId": "04175b0f-47c9-494b-e213-ecdaf507f7fe"
      },
      "execution_count": null,
      "outputs": [
        {
          "output_type": "execute_result",
          "data": {
            "text/plain": [
              "168723              \"Does this fit a 5.5\"\" bbl Single Six?\"\n",
              "179164                                         Cracked item\n",
              "122244    I have an older craftsman 1/2 hp opener that j...\n",
              "146898    How many leaders do the bags hold? Would it ho...\n",
              "141099                            What are the ingredients?\n",
              "Name: question, dtype: object"
            ]
          },
          "metadata": {},
          "execution_count": 28
        }
      ]
    },
    {
      "cell_type": "code",
      "source": [
        "train_target"
      ],
      "metadata": {
        "colab": {
          "base_uri": "https://localhost:8080/"
        },
        "id": "eKEPz8pmkQuT",
        "outputId": "820d2d67-17cf-4a04-b027-055405ce31b0"
      },
      "execution_count": null,
      "outputs": [
        {
          "output_type": "execute_result",
          "data": {
            "text/plain": [
              "168723    0\n",
              "179164    1\n",
              "122244    0\n",
              "146898    0\n",
              "141099    0\n",
              "         ..\n",
              "87226     0\n",
              "73885     1\n",
              "186456    0\n",
              "231107    1\n",
              "160828    0\n",
              "Name: label, Length: 158139, dtype: int64"
            ]
          },
          "metadata": {},
          "execution_count": 29
        }
      ]
    },
    {
      "cell_type": "code",
      "source": [
        "from sklearn.feature_extraction.text import TfidfVectorizer\n",
        "vectorizer = TfidfVectorizer(min_df=10, max_df=500)\n",
        "\n",
        "X_train = vectorizer.fit_transform(train_data)\n",
        "X_test = vectorizer.transform(test_data)"
      ],
      "metadata": {
        "id": "csC-dz12f4_e"
      },
      "execution_count": null,
      "outputs": []
    },
    {
      "cell_type": "code",
      "source": [
        "model = LogisticRegression(solver= 'liblinear')"
      ],
      "metadata": {
        "id": "WpFTh4ytkBTI"
      },
      "execution_count": null,
      "outputs": []
    },
    {
      "cell_type": "code",
      "source": [
        "model.fit(X_train, train_target)\n"
      ],
      "metadata": {
        "colab": {
          "base_uri": "https://localhost:8080/"
        },
        "id": "ENYh0brskIiH",
        "outputId": "436c5c9d-fc54-4534-e020-9991de264295"
      },
      "execution_count": null,
      "outputs": [
        {
          "output_type": "execute_result",
          "data": {
            "text/plain": [
              "LogisticRegression(solver='liblinear')"
            ]
          },
          "metadata": {},
          "execution_count": 32
        }
      ]
    },
    {
      "cell_type": "code",
      "source": [
        "predicted_train = model.predict(X_train)\n",
        "predicted_test = model.predict(X_test)"
      ],
      "metadata": {
        "id": "kfSRnGswlaQt"
      },
      "execution_count": null,
      "outputs": []
    },
    {
      "cell_type": "code",
      "source": [
        "print(classification_report(train_target, predicted_train))"
      ],
      "metadata": {
        "colab": {
          "base_uri": "https://localhost:8080/"
        },
        "id": "IubvUYzqlogb",
        "outputId": "3bc497e7-a4b9-4763-b161-8e8398e738ad"
      },
      "execution_count": null,
      "outputs": [
        {
          "output_type": "stream",
          "name": "stdout",
          "text": [
            "              precision    recall  f1-score   support\n",
            "\n",
            "           0       0.66      0.76      0.71     80000\n",
            "           1       0.71      0.61      0.66     78139\n",
            "\n",
            "    accuracy                           0.69    158139\n",
            "   macro avg       0.69      0.68      0.68    158139\n",
            "weighted avg       0.69      0.69      0.68    158139\n",
            "\n"
          ]
        }
      ]
    },
    {
      "cell_type": "code",
      "source": [
        "print(classification_report(test_target, predicted_test))"
      ],
      "metadata": {
        "colab": {
          "base_uri": "https://localhost:8080/"
        },
        "id": "pTuylk13lvN8",
        "outputId": "d728da01-27a8-4e39-c29f-ce8e180fb7c7"
      },
      "execution_count": null,
      "outputs": [
        {
          "output_type": "stream",
          "name": "stdout",
          "text": [
            "              precision    recall  f1-score   support\n",
            "\n",
            "           0       0.64      0.74      0.69     20000\n",
            "           1       0.68      0.57      0.62     19535\n",
            "\n",
            "    accuracy                           0.66     39535\n",
            "   macro avg       0.66      0.66      0.65     39535\n",
            "weighted avg       0.66      0.66      0.66     39535\n",
            "\n"
          ]
        }
      ]
    },
    {
      "cell_type": "code",
      "source": [
        "data.to_csv('pre_post_question_preparing.csv', index=False)"
      ],
      "metadata": {
        "id": "oz9Ag1oclyhD"
      },
      "execution_count": null,
      "outputs": []
    },
    {
      "cell_type": "code",
      "source": [],
      "metadata": {
        "id": "c7ibSNOfTCwv"
      },
      "execution_count": null,
      "outputs": []
    }
  ]
}